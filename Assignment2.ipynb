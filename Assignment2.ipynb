{
 "cells": [
  {
   "cell_type": "markdown",
   "metadata": {},
   "source": [
    "# Assignment 2"
   ]
  },
  {
   "cell_type": "code",
   "execution_count": 2,
   "metadata": {},
   "outputs": [],
   "source": [
    "# imports\n",
    "\n",
    "import seaborn as sns\n",
    "import pandas as pd\n",
    "import random as random \n",
    "import numpy as np"
   ]
  },
  {
   "cell_type": "markdown",
   "metadata": {},
   "source": [
    "## Task 5 of Assignment 1:\n"
   ]
  },
  {
   "cell_type": "code",
   "execution_count": null,
   "metadata": {},
   "outputs": [
    {
     "name": "stdout",
     "output_type": "stream",
     "text": [
      "0.0007716049382716049\n",
      "27900 9028650\n"
     ]
    }
   ],
   "source": [
    "# Copying your code ....\n",
    "\n",
    "allRolls5Dice = lambda : [[a+1,b+1,c+1,d+1,e+1] for a in range (6)\\\n",
    "                                                for b in range (6)\\\n",
    "                                                for c in range (6)\\\n",
    "                                                for d in range (6)\\\n",
    "                                                for e in range (6)]\n",
    "\n",
    "allRollsNDices = lambda n: [[a+1]+smallerRoll for a in range(6) for smallerRoll in allRollsNDices(n-1)] if n > 1 else [[a+1] for a in range(6)]\n",
    "\n",
    "isGenerala = lambda roll: True if len(set(roll)) == 1 else False\n",
    "notServedGeneralas = [roll for roll in allRolls5Dice() if not isGenerala(roll)]\n",
    "\n",
    "p_served_generala = len([roll for roll in allRolls5Dice() if isGenerala(roll)]) / float(len(allRolls5Dice()))\n",
    "print(p_served_generala)\n",
    "waysOfChooseFromFiveDice = 5 + 5*4 + 5*4*3 + 5*4*3*2 + 5*4*3*2*1\n",
    "\n",
    "unUnsefulPickUpsCount = 0\n",
    "usefulPickUps = []\n",
    "for notServedGenerala in notServedGeneralas:\n",
    "    for diceType in set(notServedGenerala):\n",
    "        usefulPickUp = [dice for dice in notServedGenerala if dice == diceType]\n",
    "        usefulPickUps.append(usefulPickUp)\n",
    "        \n",
    "        unUnsefulPickUpsCount += waysOfChooseFromFiveDice - len(usefulPickUp)\n",
    "        \n",
    "print (len (usefulPickUps), unUnsefulPickUpsCount)\n",
    "\n",
    "generalaCountAfterReroll = 0\n",
    "notGeneralaCountAfterReroll = 0\n",
    "for usefulPickUp in usefulPickUps:\n",
    "    for reroll in allRollsNDices(5-len(usefulPickUp)):\n",
    "        if isGenerala(usefulPickUp+reroll): generalaCountAfterReroll += 1\n",
    "        else: notGeneralaCountAfterReroll += 1\n",
    "        \n",
    "print (generalaCountAfterReroll, notGeneralaCountAfterReroll)\n",
    "\n",
    "p_generada_after_two_rolls = p_served_generala + ( generalaCountAfterReroll / (generalaCountAfterReroll+notGeneralaCountAfterReroll + unUnsefulPickUpsCount) )\n",
    "print (p_generada_after_two_rolls)\n",
    "\n",
    "# playing with no strategy i just add up the probabilty of another reroll\n",
    "#(we have again the same number of unuseful and useful pickups and the probability of getting generala \n",
    "# of the useful pickups is the same as before)\n",
    "p_generala_after_three_rolls = p_generada_after_two_rolls + (generalaCountAfterReroll/(generalaCountAfterReroll+notGeneralaCountAfterReroll +unUnsefulPickUpsCount))\n",
    "print(p_generala_after_three_rolls)\n"
   ]
  },
  {
   "cell_type": "markdown",
   "metadata": {},
   "source": [
    "## Assignment 2: ATP production \n",
    "\n"
   ]
  },
  {
   "cell_type": "markdown",
   "metadata": {},
   "source": [
    "The function has following form: $$ f(x) = a * proteins + b * carbohydrates + c * fats + \\epsilon $$\n"
   ]
  },
  {
   "cell_type": "code",
   "execution_count": 8,
   "metadata": {},
   "outputs": [],
   "source": [
    "dataframe = pd.read_csv(\"diet_and_atp.tsv\", header=[0], sep=\"\\t\")\n"
   ]
  },
  {
   "cell_type": "markdown",
   "metadata": {},
   "source": [
    "For the problem i'm going to create a MCMC model\n"
   ]
  },
  {
   "cell_type": "code",
   "execution_count": 9,
   "metadata": {
    "scrolled": false
   },
   "outputs": [],
   "source": [
    "# First i tried to approximate all the three variables at the same time but as they didn't converge \n",
    "#(probably because in each iteration all of the values are going to get a new random candidate --> the three variables\n",
    "# together cannot converge simultaneously)\n",
    "# i decided to approximate the variable \"a\" first, then variable \"b\" and then the variable \"c\"\n",
    "# These approximations REALLY depend on the chosen start value...because i set the values \"b \" and \"c\" fixed \n",
    "# while approximating value \"a\"\n",
    "\n",
    "iterations = 1000\n",
    "currentPosition = [1,1,1] # this is my initial guess of the 3-dimensional data (a, b, c) \n",
    "allStepsA = [] # record of step at point A\n",
    "allPositionsA = [] # record of all position which will be the posterior distribution\n",
    "\n",
    "for i in range (iterations) :\n",
    "    # from each current position we have to decide for some random close point for variable A, \n",
    "    # the other points stay the same\n",
    "    stepA = [random.uniform(0,1) - 0.5,0,0] # we can move maximal 0.5 in each direction in each dimension\n",
    "    # now we create the candidate for the next step\n",
    "    candidateA = [x + y for x, y in zip(currentPosition, stepA)] \n",
    "    #print(\"candidate:\",candidate)\n",
    "    \n",
    "    # function that calculates with the current variables the probability that the prediction is correct \n",
    "    def getPredictionProb (position) :\n",
    "        # save the rows that the prediction is accurate \n",
    "        accuratePredictions = []\n",
    "        for i,row in dataframe.iterrows() :\n",
    "            # prediction with the given formula: a*proteins + b*carbohydrates + c*fats - ATP = Error\n",
    "            # used Error function: mean-squared error\n",
    "            # the threshold is 0.5\n",
    "            if pow(row[0]*position[0] + row[1]*position[1] + row[2]*position[2] - row[3],2) < 0.5 :\n",
    "                accuratePredictions.append(row)\n",
    "        return len(accuratePredictions)/float(len(dataframe))\n",
    "    \n",
    "    # the candidate has to be evaluated if to go forward or not \n",
    "    \n",
    "    pCurrentPosition = getPredictionProb(currentPosition)\n",
    "    #print(\"pCurrent: \", pCurrentPosition)\n",
    "    \n",
    "    pCandidateA = getPredictionProb(candidateA)\n",
    "    #print(\"pCandidate: \", pCandidateA)\n",
    "    \n",
    "    # If the probability for the prediction of the candidate is better, accept\n",
    "    if pCandidateA > pCurrentPosition:\n",
    "        currentPosition = candidateA\n",
    "    else:\n",
    "        # if not, randomly accepted\n",
    "        randomNum = random.uniform(0,1)\n",
    "        #print(pCandidate)\n",
    "        #print(pCurrentPosition)\n",
    "        if randomNum <= pCandidateA/ pCurrentPosition:\n",
    "            currentPosition = candidateA\n",
    "        #print (\"here: \",currentPosition, step)\n",
    "    \n",
    "    # I record my step and where I'm standing\n",
    "    allPositionsA.append(currentPosition)\n",
    "    allStepsA.append(stepA)\n",
    "#print(allPositionsA)\n",
    "    "
   ]
  },
  {
   "cell_type": "code",
   "execution_count": 10,
   "metadata": {},
   "outputs": [
    {
     "name": "stdout",
     "output_type": "stream",
     "text": [
      "2.0229832725703387\n"
     ]
    }
   ],
   "source": [
    "# calculate mean of variable a and use it for getting the values of b and c\n",
    "finalA = np.sum([elem[0] for elem in allPositionsA])/len(allPositionsA)\n",
    "print(finalA)"
   ]
  },
  {
   "cell_type": "code",
   "execution_count": 11,
   "metadata": {},
   "outputs": [
    {
     "name": "stdout",
     "output_type": "stream",
     "text": [
      "0.4986289630034641\n"
     ]
    }
   ],
   "source": [
    "# doing the same steps for parameter b\n",
    "\n",
    "currentPosition = [finalA,1,1] # this is my initial guess of the 3-dimensional data (a, b, c) \n",
    "allStepsB = [] # record of step at each point \n",
    "allPositionsB = [] # record of all position which will be the posterior distribution\n",
    "for i in range (iterations) :\n",
    "    # from each current position we have to decide for some random close points \n",
    "    stepB = [0,random.uniform(0,1) - 0.5,0] # we can move maximal 0.5 in each direction in each dimension\n",
    "    # now we create the candidate for the next step\n",
    "    candidateB = [x + y for x, y in zip(currentPosition, stepB)] \n",
    "    #print(\"candidate:\",candidate)\n",
    "    \n",
    "    def getPredictionProb (position) :\n",
    "        # save the rows that the prediction is accurate \n",
    "        accuratePredictions = []\n",
    "        for i,row in dataframe.iterrows() :\n",
    "            # prediction with the given formula: a*proteins + b*carbohydrates + c*fats - ATP = Error\n",
    "            if pow(row[0]*position[0] + row[1]*position[1] + row[2]*position[2] - row[3],2) < 0.5 :\n",
    "                accuratePredictions.append(row)\n",
    "        return len(accuratePredictions)/float(len(dataframe))\n",
    "    \n",
    "    # the candidate has to be evaluated if to go forward or not \n",
    "    \n",
    "    pCurrentPosition = getPredictionProb(currentPosition)\n",
    "    #print(\"pCurrent: \", pCurrentPosition)\n",
    "    \n",
    "    pCandidateB = getPredictionProb(candidateB)\n",
    "    #print(\"pCandidate: \", pCandidateB)\n",
    "    \n",
    "    # If the new step is better, I always accept\n",
    "    if pCandidateB > pCurrentPosition:\n",
    "        currentPosition = candidateB\n",
    "    else:\n",
    "        # if not, randomly accepted\n",
    "        randomNum = random.uniform(0,1)\n",
    "        #print(pCandidate)\n",
    "        #print(pCurrentPosition)\n",
    "        if randomNum <= pCandidateB/ pCurrentPosition:\n",
    "            currentPosition = candidateB\n",
    "        #print (\"here: \",currentPosition, step)\n",
    "    \n",
    "    # I record my step and where I'm standing\n",
    "    allPositionsB.append(currentPosition)\n",
    "    allStepsB.append(stepB)\n",
    "    \n",
    "    # calculate mean of variable a and use it for getting the values of b and c\n",
    "    \n",
    "finalB = np.sum([elem[1] for elem in allPositionsB])/len(allPositionsB)\n",
    "print(finalB)"
   ]
  },
  {
   "cell_type": "code",
   "execution_count": 12,
   "metadata": {},
   "outputs": [
    {
     "name": "stdout",
     "output_type": "stream",
     "text": [
      "5.474131629989476\n"
     ]
    }
   ],
   "source": [
    "# doing the same steps for parameter c\n",
    "\n",
    "currentPosition = [finalA,finalB,1] # this is my initial guess of the 3-dimensional data (a, b, c) \n",
    "allStepsC = [] # record of step at each point \n",
    "allPositionsC = [] # record of all position which will be the posterior distribution\n",
    "for i in range (iterations) :\n",
    "    # from each current position we have to decide for some random close points \n",
    "    stepC = [0,0,random.uniform(0,1) - 0.5] # we can move maximal 0.5 in each direction in each dimension\n",
    "    # now we create the candidate for the next step\n",
    "    candidateC = [x + y for x, y in zip(currentPosition, stepC)] \n",
    "    #print(\"candidate:\",candidate)\n",
    "    \n",
    "    def getPredictionProb (position) :\n",
    "        # save the rows that the prediction is accurate \n",
    "        accuratePredictions = []\n",
    "        for i,row in dataframe.iterrows() :\n",
    "            # prediction with the given formula: a*proteins + b*carbohydrates + c*fats - ATP = Error\n",
    "            if pow(row[0]*position[0] + row[1]*position[1] + row[2]*position[2] - row[3],2) < 0.5 :\n",
    "                accuratePredictions.append(row)\n",
    "        return len(accuratePredictions)/float(len(dataframe))\n",
    "    \n",
    "    # the candidate has to be evaluated if to go forward or not \n",
    "    \n",
    "    pCurrentPosition = getPredictionProb(currentPosition)\n",
    "    #print(\"pCurrent: \", pCurrentPosition)\n",
    "    \n",
    "    pCandidateC = getPredictionProb(candidateC)\n",
    "    #print(\"pCandidate: \", pCandidateC)\n",
    "    \n",
    "    # If the new step is better, I always accept\n",
    "    if pCandidateC > pCurrentPosition:\n",
    "        currentPosition = candidateC\n",
    "    else:\n",
    "        # if not, randomly accepted\n",
    "        randomNum = random.uniform(0,1)\n",
    "        #print(pCandidate)\n",
    "        #print(pCurrentPosition)\n",
    "        if randomNum <= pCandidateC/ pCurrentPosition:\n",
    "            currentPosition = candidateC\n",
    "        #print (\"here: \",currentPosition, step)\n",
    "    \n",
    "    # I record my step and where I'm standing\n",
    "    allPositionsC.append(currentPosition)\n",
    "    allStepsC.append(stepC)\n",
    "    \n",
    "    # calculate mean of variable a and use it for getting the values of b and c\n",
    "    \n",
    "finalC = np.sum([elem[2] for elem in allPositionsC])/len(allPositionsC)\n",
    "print(finalC)"
   ]
  },
  {
   "cell_type": "code",
   "execution_count": 13,
   "metadata": {},
   "outputs": [
    {
     "data": {
      "text/plain": [
       "<matplotlib.axes._subplots.AxesSubplot at 0x1df24146208>"
      ]
     },
     "execution_count": 13,
     "metadata": {},
     "output_type": "execute_result"
    },
    {
     "data": {
      "image/png": "[encoded data removed]",
      "text/plain": [
       "<Figure size 864x864 with 1 Axes>"
      ]
     },
     "metadata": {
      "needs_background": "light"
     },
     "output_type": "display_data"
    },
    {
     "data": {
      "image/png": "[encoded data removed]",
      "text/plain": [
       "<Figure size 864x864 with 1 Axes>"
      ]
     },
     "metadata": {
      "needs_background": "light"
     },
     "output_type": "display_data"
    },
    {
     "data": {
      "image/png": "[encoded data removed]",
      "text/plain": [
       "<Figure size 864x864 with 1 Axes>"
      ]
     },
     "metadata": {
      "needs_background": "light"
     },
     "output_type": "display_data"
    }
   ],
   "source": [
    "# Plotting the likelihood function for each variable that im inferring separately\n",
    "import matplotlib.pyplot as plt  \n",
    "fig=plt.figure(figsize=(12, 12))\n",
    "sns.distplot([elem[0] for elem in allPositionsA], kde=False, label=\"my guess after %s iterations\" % iterations, norm_hist=True)\n",
    "\n",
    "\n",
    "fig=plt.figure(figsize=(12, 12))\n",
    "sns.distplot([elem[1] for elem in allPositionsB], kde=False, label=\"my guess after %s iterations\" % iterations, norm_hist=True)\n",
    "    \n",
    "fig=plt.figure(figsize=(12, 12))\n",
    "sns.distplot([elem[2] for elem in allPositionsC], kde=False, label=\"my guess after %s iterations\" % iterations, norm_hist=True)\n",
    "    "
   ]
  },
  {
   "cell_type": "code",
   "execution_count": 14,
   "metadata": {},
   "outputs": [
    {
     "name": "stdout",
     "output_type": "stream",
     "text": [
      "0.3333333333333333\n",
      "2.0476825373717906\n"
     ]
    }
   ],
   "source": [
    "# my final variables would be finalA, finalB and finalC \n",
    "# check the resulting error:\n",
    "\n",
    "print(getPredictionProb([finalA,finalB,finalC]))\n",
    "sum = 0\n",
    "for i,row in dataframe.iterrows() :\n",
    "        # prediction with the given formula: a*proteins + b*carbohydrates + c*fats - ATP = Error\n",
    "        sum = sum + pow(row[0]*finalA + row[1]*finalB + row[2]*finalC - row[3], 2)\n",
    "print(sum/len(dataframe))"
   ]
  },
  {
   "cell_type": "code",
   "execution_count": null,
   "metadata": {},
   "outputs": [],
   "source": []
  },
  {
   "cell_type": "code",
   "execution_count": null,
   "metadata": {},
   "outputs": [],
   "source": []
  }
 ],
 "metadata": {
  "kernelspec": {
   "display_name": "Python 3",
   "language": "python",
   "name": "python3"
  },
  "language_info": {
   "codemirror_mode": {
    "name": "ipython",
    "version": 3
   },
   "file_extension": ".py",
   "mimetype": "text/x-python",
   "name": "python",
   "nbconvert_exporter": "python",
   "pygments_lexer": "ipython3",
   "version": "3.7.6"
  }
 },
 "nbformat": 4,
 "nbformat_minor": 2
}
