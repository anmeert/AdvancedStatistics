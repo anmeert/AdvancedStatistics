{
 "cells": [
  {
   "cell_type": "markdown",
   "metadata": {},
   "source": [
    "# Assignment 5"
   ]
  },
  {
   "cell_type": "code",
   "execution_count": 18,
   "metadata": {},
   "outputs": [],
   "source": [
    "# imports\n",
    "import pandas as pd\n",
    "from sklearn import tree\n",
    "from sklearn.preprocessing import MinMaxScaler\n",
    "import graphviz \n",
    "from IPython.display import Image"
   ]
  },
  {
   "cell_type": "code",
   "execution_count": 2,
   "metadata": {},
   "outputs": [
    {
     "data": {
      "text/html": [
       "<div>\n",
       "<style scoped>\n",
       "    .dataframe tbody tr th:only-of-type {\n",
       "        vertical-align: middle;\n",
       "    }\n",
       "\n",
       "    .dataframe tbody tr th {\n",
       "        vertical-align: top;\n",
       "    }\n",
       "\n",
       "    .dataframe thead th {\n",
       "        text-align: right;\n",
       "    }\n",
       "</style>\n",
       "<table border=\"1\" class=\"dataframe\">\n",
       "  <thead>\n",
       "    <tr style=\"text-align: right;\">\n",
       "      <th></th>\n",
       "      <th>id</th>\n",
       "      <th>name</th>\n",
       "      <th>host_id</th>\n",
       "      <th>host_name</th>\n",
       "      <th>neighbourhood_group</th>\n",
       "      <th>neighbourhood</th>\n",
       "      <th>latitude</th>\n",
       "      <th>longitude</th>\n",
       "      <th>room_type</th>\n",
       "      <th>price</th>\n",
       "      <th>minimum_nights</th>\n",
       "      <th>number_of_reviews</th>\n",
       "      <th>last_review</th>\n",
       "      <th>reviews_per_month</th>\n",
       "      <th>calculated_host_listings_count</th>\n",
       "      <th>availability_365</th>\n",
       "    </tr>\n",
       "  </thead>\n",
       "  <tbody>\n",
       "    <tr>\n",
       "      <th>0</th>\n",
       "      <td>18666</td>\n",
       "      <td>Flat with Sunny Terrace</td>\n",
       "      <td>71615</td>\n",
       "      <td>Mireia And Maria</td>\n",
       "      <td>Sant Martí</td>\n",
       "      <td>el Camp de l'Arpa del Clot</td>\n",
       "      <td>41.40889</td>\n",
       "      <td>2.18555</td>\n",
       "      <td>Entire home/apt</td>\n",
       "      <td>130</td>\n",
       "      <td>3</td>\n",
       "      <td>1</td>\n",
       "      <td>2015-10-10</td>\n",
       "      <td>0.02</td>\n",
       "      <td>30</td>\n",
       "      <td>304</td>\n",
       "    </tr>\n",
       "    <tr>\n",
       "      <th>1</th>\n",
       "      <td>18674</td>\n",
       "      <td>Huge flat for 8 people close to Sagrada Familia</td>\n",
       "      <td>71615</td>\n",
       "      <td>Mireia And Maria</td>\n",
       "      <td>Eixample</td>\n",
       "      <td>la Sagrada Família</td>\n",
       "      <td>41.40420</td>\n",
       "      <td>2.17306</td>\n",
       "      <td>Entire home/apt</td>\n",
       "      <td>60</td>\n",
       "      <td>1</td>\n",
       "      <td>20</td>\n",
       "      <td>2019-10-19</td>\n",
       "      <td>0.25</td>\n",
       "      <td>30</td>\n",
       "      <td>312</td>\n",
       "    </tr>\n",
       "    <tr>\n",
       "      <th>2</th>\n",
       "      <td>23197</td>\n",
       "      <td>FORUM DELUXE 5 MINS WALK  CCIB CENTER &amp; SEA!</td>\n",
       "      <td>90417</td>\n",
       "      <td>Etain (Marnie)</td>\n",
       "      <td>Sant Martí</td>\n",
       "      <td>el Besòs i el Maresme</td>\n",
       "      <td>41.41203</td>\n",
       "      <td>2.22114</td>\n",
       "      <td>Entire home/apt</td>\n",
       "      <td>210</td>\n",
       "      <td>3</td>\n",
       "      <td>51</td>\n",
       "      <td>2019-09-29</td>\n",
       "      <td>0.48</td>\n",
       "      <td>2</td>\n",
       "      <td>359</td>\n",
       "    </tr>\n",
       "    <tr>\n",
       "      <th>3</th>\n",
       "      <td>25786</td>\n",
       "      <td>NICE ROOM AVAILABLE IN THE HEART OF GRACIA</td>\n",
       "      <td>108310</td>\n",
       "      <td>Pedro</td>\n",
       "      <td>Gràcia</td>\n",
       "      <td>la Vila de Gràcia</td>\n",
       "      <td>41.40145</td>\n",
       "      <td>2.15645</td>\n",
       "      <td>Private room</td>\n",
       "      <td>32</td>\n",
       "      <td>1</td>\n",
       "      <td>268</td>\n",
       "      <td>2019-11-06</td>\n",
       "      <td>2.38</td>\n",
       "      <td>1</td>\n",
       "      <td>46</td>\n",
       "    </tr>\n",
       "    <tr>\n",
       "      <th>4</th>\n",
       "      <td>31958</td>\n",
       "      <td>Gaudi Attic 1, Friendly Rentals</td>\n",
       "      <td>136853</td>\n",
       "      <td>Fidelio</td>\n",
       "      <td>Gràcia</td>\n",
       "      <td>el Camp d'en Grassot i Gràcia Nova</td>\n",
       "      <td>41.40950</td>\n",
       "      <td>2.15938</td>\n",
       "      <td>Entire home/apt</td>\n",
       "      <td>60</td>\n",
       "      <td>1</td>\n",
       "      <td>182</td>\n",
       "      <td>2019-10-16</td>\n",
       "      <td>1.71</td>\n",
       "      <td>39</td>\n",
       "      <td>324</td>\n",
       "    </tr>\n",
       "    <tr>\n",
       "      <th>...</th>\n",
       "      <td>...</td>\n",
       "      <td>...</td>\n",
       "      <td>...</td>\n",
       "      <td>...</td>\n",
       "      <td>...</td>\n",
       "      <td>...</td>\n",
       "      <td>...</td>\n",
       "      <td>...</td>\n",
       "      <td>...</td>\n",
       "      <td>...</td>\n",
       "      <td>...</td>\n",
       "      <td>...</td>\n",
       "      <td>...</td>\n",
       "      <td>...</td>\n",
       "      <td>...</td>\n",
       "      <td>...</td>\n",
       "    </tr>\n",
       "    <tr>\n",
       "      <th>20172</th>\n",
       "      <td>39790142</td>\n",
       "      <td>Habitación privada con baño propio</td>\n",
       "      <td>305871088</td>\n",
       "      <td>Gaston</td>\n",
       "      <td>Eixample</td>\n",
       "      <td>la Dreta de l'Eixample</td>\n",
       "      <td>41.39043</td>\n",
       "      <td>2.16171</td>\n",
       "      <td>Private room</td>\n",
       "      <td>35</td>\n",
       "      <td>1</td>\n",
       "      <td>1</td>\n",
       "      <td>2019-11-07</td>\n",
       "      <td>1.00</td>\n",
       "      <td>1</td>\n",
       "      <td>89</td>\n",
       "    </tr>\n",
       "    <tr>\n",
       "      <th>20189</th>\n",
       "      <td>39802148</td>\n",
       "      <td>A Good Deal</td>\n",
       "      <td>36027643</td>\n",
       "      <td>Maz</td>\n",
       "      <td>Eixample</td>\n",
       "      <td>la Dreta de l'Eixample</td>\n",
       "      <td>41.39018</td>\n",
       "      <td>2.16329</td>\n",
       "      <td>Private room</td>\n",
       "      <td>32</td>\n",
       "      <td>1</td>\n",
       "      <td>1</td>\n",
       "      <td>2019-11-03</td>\n",
       "      <td>1.00</td>\n",
       "      <td>2</td>\n",
       "      <td>277</td>\n",
       "    </tr>\n",
       "    <tr>\n",
       "      <th>20219</th>\n",
       "      <td>39830187</td>\n",
       "      <td>Habitación doble</td>\n",
       "      <td>294344510</td>\n",
       "      <td>Barbara Kimberly</td>\n",
       "      <td>Les Corts</td>\n",
       "      <td>les Corts</td>\n",
       "      <td>41.39083</td>\n",
       "      <td>2.13966</td>\n",
       "      <td>Private room</td>\n",
       "      <td>40</td>\n",
       "      <td>1</td>\n",
       "      <td>1</td>\n",
       "      <td>2019-11-05</td>\n",
       "      <td>1.00</td>\n",
       "      <td>1</td>\n",
       "      <td>363</td>\n",
       "    </tr>\n",
       "    <tr>\n",
       "      <th>20265</th>\n",
       "      <td>39864550</td>\n",
       "      <td>Habitación en piso acogedor y barrio encantador</td>\n",
       "      <td>134152396</td>\n",
       "      <td>Diana</td>\n",
       "      <td>Sarrià-Sant Gervasi</td>\n",
       "      <td>Sant Gervasi - Galvany</td>\n",
       "      <td>41.39783</td>\n",
       "      <td>2.14128</td>\n",
       "      <td>Private room</td>\n",
       "      <td>25</td>\n",
       "      <td>1</td>\n",
       "      <td>2</td>\n",
       "      <td>2019-11-05</td>\n",
       "      <td>2.00</td>\n",
       "      <td>1</td>\n",
       "      <td>11</td>\n",
       "    </tr>\n",
       "    <tr>\n",
       "      <th>20359</th>\n",
       "      <td>39924414</td>\n",
       "      <td>Ile1</td>\n",
       "      <td>307656366</td>\n",
       "      <td>Angelica</td>\n",
       "      <td>Horta-Guinardó</td>\n",
       "      <td>el Baix Guinardó</td>\n",
       "      <td>41.41013</td>\n",
       "      <td>2.16673</td>\n",
       "      <td>Private room</td>\n",
       "      <td>16</td>\n",
       "      <td>1</td>\n",
       "      <td>4</td>\n",
       "      <td>2019-11-08</td>\n",
       "      <td>4.00</td>\n",
       "      <td>1</td>\n",
       "      <td>252</td>\n",
       "    </tr>\n",
       "  </tbody>\n",
       "</table>\n",
       "<p>16132 rows × 16 columns</p>\n",
       "</div>"
      ],
      "text/plain": [
       "             id                                             name    host_id  \\\n",
       "0         18666                          Flat with Sunny Terrace      71615   \n",
       "1         18674  Huge flat for 8 people close to Sagrada Familia      71615   \n",
       "2         23197     FORUM DELUXE 5 MINS WALK  CCIB CENTER & SEA!      90417   \n",
       "3         25786       NICE ROOM AVAILABLE IN THE HEART OF GRACIA     108310   \n",
       "4         31958                  Gaudi Attic 1, Friendly Rentals     136853   \n",
       "...         ...                                              ...        ...   \n",
       "20172  39790142               Habitación privada con baño propio  305871088   \n",
       "20189  39802148                                      A Good Deal   36027643   \n",
       "20219  39830187                                 Habitación doble  294344510   \n",
       "20265  39864550  Habitación en piso acogedor y barrio encantador  134152396   \n",
       "20359  39924414                                             Ile1  307656366   \n",
       "\n",
       "              host_name  neighbourhood_group  \\\n",
       "0      Mireia And Maria           Sant Martí   \n",
       "1      Mireia And Maria             Eixample   \n",
       "2        Etain (Marnie)           Sant Martí   \n",
       "3                 Pedro               Gràcia   \n",
       "4               Fidelio               Gràcia   \n",
       "...                 ...                  ...   \n",
       "20172            Gaston             Eixample   \n",
       "20189               Maz             Eixample   \n",
       "20219  Barbara Kimberly            Les Corts   \n",
       "20265             Diana  Sarrià-Sant Gervasi   \n",
       "20359          Angelica       Horta-Guinardó   \n",
       "\n",
       "                            neighbourhood  latitude  longitude  \\\n",
       "0              el Camp de l'Arpa del Clot  41.40889    2.18555   \n",
       "1                      la Sagrada Família  41.40420    2.17306   \n",
       "2                   el Besòs i el Maresme  41.41203    2.22114   \n",
       "3                       la Vila de Gràcia  41.40145    2.15645   \n",
       "4      el Camp d'en Grassot i Gràcia Nova  41.40950    2.15938   \n",
       "...                                   ...       ...        ...   \n",
       "20172              la Dreta de l'Eixample  41.39043    2.16171   \n",
       "20189              la Dreta de l'Eixample  41.39018    2.16329   \n",
       "20219                           les Corts  41.39083    2.13966   \n",
       "20265              Sant Gervasi - Galvany  41.39783    2.14128   \n",
       "20359                    el Baix Guinardó  41.41013    2.16673   \n",
       "\n",
       "             room_type  price  minimum_nights  number_of_reviews last_review  \\\n",
       "0      Entire home/apt    130               3                  1  2015-10-10   \n",
       "1      Entire home/apt     60               1                 20  2019-10-19   \n",
       "2      Entire home/apt    210               3                 51  2019-09-29   \n",
       "3         Private room     32               1                268  2019-11-06   \n",
       "4      Entire home/apt     60               1                182  2019-10-16   \n",
       "...                ...    ...             ...                ...         ...   \n",
       "20172     Private room     35               1                  1  2019-11-07   \n",
       "20189     Private room     32               1                  1  2019-11-03   \n",
       "20219     Private room     40               1                  1  2019-11-05   \n",
       "20265     Private room     25               1                  2  2019-11-05   \n",
       "20359     Private room     16               1                  4  2019-11-08   \n",
       "\n",
       "       reviews_per_month  calculated_host_listings_count  availability_365  \n",
       "0                   0.02                              30               304  \n",
       "1                   0.25                              30               312  \n",
       "2                   0.48                               2               359  \n",
       "3                   2.38                               1                46  \n",
       "4                   1.71                              39               324  \n",
       "...                  ...                             ...               ...  \n",
       "20172               1.00                               1                89  \n",
       "20189               1.00                               2               277  \n",
       "20219               1.00                               1               363  \n",
       "20265               2.00                               1                11  \n",
       "20359               4.00                               1               252  \n",
       "\n",
       "[16132 rows x 16 columns]"
      ]
     },
     "execution_count": 2,
     "metadata": {},
     "output_type": "execute_result"
    }
   ],
   "source": [
    "data = pd.read_csv('http://data.insideairbnb.com/spain/catalonia/barcelona/2019-11-09/visualisations/listings.csv')\n",
    "data = data.dropna()\n",
    "data"
   ]
  },
  {
   "cell_type": "markdown",
   "metadata": {},
   "source": [
    "## Exercise 1"
   ]
  },
  {
   "cell_type": "code",
   "execution_count": 3,
   "metadata": {},
   "outputs": [
    {
     "data": {
      "text/plain": [
       "price   -281.521559\n",
       "dtype: float64"
      ]
     },
     "execution_count": 3,
     "metadata": {},
     "output_type": "execute_result"
    }
   ],
   "source": [
    "Y = data[[\"price\"]]\n",
    "# calculate mean and standard deviation to be able to divide data into price categories\n",
    "mean = Y.mean()\n",
    "stdev = Y.std()\n",
    "mean-stdev # it doesn't really make sense to take the really_cheap category which is a price under zero right?"
   ]
  },
  {
   "cell_type": "code",
   "execution_count": 4,
   "metadata": {},
   "outputs": [
    {
     "name": "stdout",
     "output_type": "stream",
     "text": [
      "cheap               12895\n",
      "expensive            2948\n",
      "really expensive      289\n",
      "Name: price, dtype: int64\n"
     ]
    }
   ],
   "source": [
    "# divide apartments into price categories\n",
    "\n",
    "# calculate thresholds to be able to divide data\n",
    "really_cheap_upper = mean - stdev\n",
    "cheap_upper = mean \n",
    "expensive_upper = mean + stdev\n",
    "\n",
    "Y_categories = Y.copy() # Y_categories is later used for the classifier fit\n",
    "# store the category for each apartment in Y_categories\n",
    "Y_categories[Y <= really_cheap_upper] = 'really cheap'\n",
    "Y_categories[(Y > really_cheap_upper) & (Y <= cheap_upper)] = 'cheap'\n",
    "Y_categories[(Y > cheap_upper) & (Y <= expensive_upper)] = 'expensive'\n",
    "Y_categories[(Y > expensive_upper)] = 'really expensive'\n",
    "\n",
    "\n",
    "# count the number of apartments in each category\n",
    "print(Y_categories['price'].value_counts())\n",
    "# there are no really cheap apartments -> count is zero"
   ]
  },
  {
   "cell_type": "markdown",
   "metadata": {},
   "source": [
    "## Exercise 2"
   ]
  },
  {
   "cell_type": "code",
   "execution_count": 5,
   "metadata": {},
   "outputs": [
    {
     "name": "stderr",
     "output_type": "stream",
     "text": [
      "C:\\Users\\Annika\\Anaconda3\\lib\\site-packages\\ipykernel_launcher.py:10: SettingWithCopyWarning: \n",
      "A value is trying to be set on a copy of a slice from a DataFrame.\n",
      "Try using .loc[row_indexer,col_indexer] = value instead\n",
      "\n",
      "See the caveats in the documentation: https://pandas.pydata.org/pandas-docs/stable/user_guide/indexing.html#returning-a-view-versus-a-copy\n",
      "  # Remove the CWD from sys.path while we load stuff.\n",
      "C:\\Users\\Annika\\Anaconda3\\lib\\site-packages\\ipykernel_launcher.py:11: SettingWithCopyWarning: \n",
      "A value is trying to be set on a copy of a slice from a DataFrame.\n",
      "Try using .loc[row_indexer,col_indexer] = value instead\n",
      "\n",
      "See the caveats in the documentation: https://pandas.pydata.org/pandas-docs/stable/user_guide/indexing.html#returning-a-view-versus-a-copy\n",
      "  # This is added back by InteractiveShellApp.init_path()\n",
      "C:\\Users\\Annika\\Anaconda3\\lib\\site-packages\\ipykernel_launcher.py:12: SettingWithCopyWarning: \n",
      "A value is trying to be set on a copy of a slice from a DataFrame.\n",
      "Try using .loc[row_indexer,col_indexer] = value instead\n",
      "\n",
      "See the caveats in the documentation: https://pandas.pydata.org/pandas-docs/stable/user_guide/indexing.html#returning-a-view-versus-a-copy\n",
      "  if sys.path[0] == '':\n"
     ]
    }
   ],
   "source": [
    "# get data for all the features that we are looking at\n",
    "X = data[['neighbourhood_group',\n",
    "         'neighbourhood',\n",
    "         'latitude',\n",
    "         'longitude',\n",
    "         'room_type',\n",
    "         'minimum_nights',\n",
    "         'number_of_reviews',\n",
    "         'reviews_per_month',\n",
    "         'availability_365']]\n",
    "# encode features as categorical variables --> getting numerical values for each category\n",
    "X['room_type'] = pd.factorize(X['room_type'])[0]\n",
    "X['neighbourhood_group'] = pd.factorize(X['neighbourhood_group'])[0]\n",
    "X['neighbourhood'] = pd.factorize(X['neighbourhood'])[0]\n",
    "# each feature is scaled to a value from 0 to 1 \n",
    "X = MinMaxScaler().fit_transform(X)"
   ]
  },
  {
   "cell_type": "code",
   "execution_count": 17,
   "metadata": {},
   "outputs": [],
   "source": [
    "# create the decision tree classifier and export the output tree with graphviz\n",
    "clf = tree.DecisionTreeClassifier()\n",
    "clf = clf.fit(X, Y_categories)\n",
    "#tree.export_graphviz(clf, max_depth=3, out_file='tree.out')"
   ]
  },
  {
   "cell_type": "code",
   "execution_count": 21,
   "metadata": {},
   "outputs": [
    {
     "data": {
      "image/png": "[encoded data removed]",
      "text/plain": [
       "<IPython.core.display.Image object>"
      ]
     },
     "execution_count": 21,
     "metadata": {},
     "output_type": "execute_result"
    }
   ],
   "source": [
    "# importing an image file for the exported dot file from graphviz\n",
    "img = 'tree.png'\n",
    "Image(filename=img)"
   ]
  },
  {
   "cell_type": "code",
   "execution_count": 22,
   "metadata": {},
   "outputs": [
    {
     "name": "stdout",
     "output_type": "stream",
     "text": [
      "[0.02260048 0.03816615 0.14994606 0.13759434 0.2019099  0.10234573\n",
      " 0.09624011 0.12336979 0.12782744]\n"
     ]
    }
   ],
   "source": [
    "# print importances of each feature\n",
    "print(clf.feature_importances_)"
   ]
  },
  {
   "cell_type": "markdown",
   "metadata": {},
   "source": [
    "We can see that the most important feature to classify the apartments according to price categories is the roomtype (X4). The next important features are latitude and longitude as well as availability_365. Not as important on the other hand are neighbourhood_group and neighbourhood --> price categories doesn't seem to depend that much on neighbourhoods, but still on latitude and longitude --> maybe neighbourhoods and neighbourhood_groups are too big areas that contain multiple price categories, but the price category is still depending on the location "
   ]
  },
  {
   "cell_type": "markdown",
   "metadata": {},
   "source": [
    "## Exercise 3"
   ]
  },
  {
   "cell_type": "code",
   "execution_count": 27,
   "metadata": {},
   "outputs": [
    {
     "name": "stderr",
     "output_type": "stream",
     "text": [
      "C:\\Users\\Annika\\Anaconda3\\lib\\site-packages\\ipykernel_launcher.py:6: DataConversionWarning: A column-vector y was passed when a 1d array was expected. Please change the shape of y to (n_samples,), for example using ravel().\n",
      "  \n"
     ]
    },
    {
     "name": "stdout",
     "output_type": "stream",
     "text": [
      "Score:  0.8596578229605752\n"
     ]
    }
   ],
   "source": [
    "from sklearn.ensemble import RandomForestClassifier\n",
    "from sklearn.ensemble import RandomForestRegressor\n",
    "\n",
    "# classifier with price categories\n",
    "clf = RandomForestClassifier(oob_score=True)\n",
    "clf.fit(X, Y_categories)\n",
    "\n",
    "print('Score: ', clf.oob_score_)\n"
   ]
  },
  {
   "cell_type": "code",
   "execution_count": 28,
   "metadata": {},
   "outputs": [
    {
     "name": "stderr",
     "output_type": "stream",
     "text": [
      "C:\\Users\\Annika\\Anaconda3\\lib\\site-packages\\ipykernel_launcher.py:3: DataConversionWarning: A column-vector y was passed when a 1d array was expected. Please change the shape of y to (n_samples,), for example using ravel().\n",
      "  This is separate from the ipykernel package so we can avoid doing imports until\n"
     ]
    },
    {
     "name": "stdout",
     "output_type": "stream",
     "text": [
      "Score:  0.40647264628622615\n"
     ]
    }
   ],
   "source": [
    "# classifier with numerical price\n",
    "regr  = RandomForestRegressor(oob_score=True)\n",
    "regr.fit(X, Y)\n",
    "\n",
    "print('Score: ', regr.oob_score_)"
   ]
  },
  {
   "cell_type": "markdown",
   "metadata": {},
   "source": [
    "The Score of the Random forest classifier with price categories is around 86% while the regressor random forest with numerical price is much lower: just around 41%. For the regression classifier price classes have a much larger price range which is harder to predict which could explain the lower score. "
   ]
  },
  {
   "cell_type": "code",
   "execution_count": null,
   "metadata": {},
   "outputs": [],
   "source": []
  }
 ],
 "metadata": {
  "kernelspec": {
   "display_name": "Python 3",
   "language": "python",
   "name": "python3"
  },
  "language_info": {
   "codemirror_mode": {
    "name": "ipython",
    "version": 3
   },
   "file_extension": ".py",
   "mimetype": "text/x-python",
   "name": "python",
   "nbconvert_exporter": "python",
   "pygments_lexer": "ipython3",
   "version": "3.7.6"
  }
 },
 "nbformat": 4,
 "nbformat_minor": 4
}
